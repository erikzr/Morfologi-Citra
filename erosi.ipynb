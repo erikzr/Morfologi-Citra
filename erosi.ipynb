{
 "cells": [
  {
   "cell_type": "raw",
   "id": "c80d76eb-a3f9-44ce-a169-85b08502ad83",
   "metadata": {},
   "source": [
    "import cv2\n",
    "import numpy as np\n",
    "from matplotlib import pyplot as plt\n",
    "\n",
    "# Baca gambar\n",
    "img = cv2.imread('Downloads/gambar nama.jpg', 0)\n",
    "\n",
    "# Buat kernel untuk erosi dan dilatasi\n",
    "kernel = np.ones((5,5), np.uint8)\n",
    "\n",
    "# Erosi\n",
    "erosion = cv2.erode(img, kernel, iterations = 1)\n",
    "\n",
    "# Dilatasi\n",
    "dilation = cv2.dilate(img, kernel, iterations = 1)\n",
    "\n",
    "# Tampilkan gambar menggunakan Matplotlib\n",
    "plt.figure(figsize=(10, 5))\n",
    "\n",
    "plt.subplot(1, 3, 1)\n",
    "plt.imshow(img, cmap='gray')\n",
    "plt.title('Original Image')\n",
    "\n",
    "plt.subplot(1, 3, 2)\n",
    "plt.imshow(erosion, cmap='gray')\n",
    "plt.title('Erosion')\n",
    "\n",
    "plt.subplot(1, 3, 3)\n",
    "plt.imshow(dilation, cmap='gray')\n",
    "plt.title('Dilation')\n",
    "\n",
    "plt.show()\n"
   ]
  },
  {
   "cell_type": "code",
   "execution_count": null,
   "id": "a03da4be-c7ca-44c5-91cf-554293dee4f9",
   "metadata": {},
   "outputs": [],
   "source": []
  }
 ],
 "metadata": {
  "kernelspec": {
   "display_name": "Python 3 (ipykernel)",
   "language": "python",
   "name": "python3"
  },
  "language_info": {
   "codemirror_mode": {
    "name": "ipython",
    "version": 3
   },
   "file_extension": ".py",
   "mimetype": "text/x-python",
   "name": "python",
   "nbconvert_exporter": "python",
   "pygments_lexer": "ipython3",
   "version": "3.11.8"
  }
 },
 "nbformat": 4,
 "nbformat_minor": 5
}
